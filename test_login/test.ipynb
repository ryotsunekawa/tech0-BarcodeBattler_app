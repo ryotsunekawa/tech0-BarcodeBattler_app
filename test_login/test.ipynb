{
 "cells": [
  {
   "cell_type": "code",
   "execution_count": null,
   "id": "94940a32",
   "metadata": {},
   "outputs": [
    {
     "name": "stderr",
     "output_type": "stream",
     "text": [
      "2025-09-23 15:58:52.436 Thread 'MainThread': missing ScriptRunContext! This warning can be ignored when running in bare mode.\n",
      "2025-09-23 15:58:52.437 Thread 'MainThread': missing ScriptRunContext! This warning can be ignored when running in bare mode.\n",
      "2025-09-23 15:58:52.437 Thread 'MainThread': missing ScriptRunContext! This warning can be ignored when running in bare mode.\n"
     ]
    }
   ],
   "source": [
    "from supabase import create_client\n",
    "import os\n",
    "import streamlit as st\n",
    "\n",
    "SUPABASE_URL = os.getenv(\"SUPABASE_URL\")\n",
    "SERVICE_ROLE_KEY = os.getenv(\"SERVICE_ROLE_KEY\")\n",
    "\n",
    "supabase = create_client(SUPABASE_URL, SERVICE_ROLE_KEY)\n",
    "\n",
    "email = \"example@example.com\"\n",
    "\n",
    "try:\n",
    "    res = supabase.from_(\"auth.users\").select(\"*\").eq(\"email\", email).execute()\n",
    "    if res.data:\n",
    "        st.write(\"登録済み\")\n",
    "    else:\n",
    "        st.write(\"未登録\")\n",
    "except Exception as e:\n",
    "    st.error(f\"エラー発生: {str(e)}\")\n"
   ]
  }
 ],
 "metadata": {
  "kernelspec": {
   "display_name": "base",
   "language": "python",
   "name": "python3"
  },
  "language_info": {
   "codemirror_mode": {
    "name": "ipython",
    "version": 3
   },
   "file_extension": ".py",
   "mimetype": "text/x-python",
   "name": "python",
   "nbconvert_exporter": "python",
   "pygments_lexer": "ipython3",
   "version": "3.10.9"
  }
 },
 "nbformat": 4,
 "nbformat_minor": 5
}
