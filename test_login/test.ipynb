{
 "cells": [
  {
   "cell_type": "code",
   "execution_count": 5,
   "id": "6d2fbe0d",
   "metadata": {},
   "outputs": [
    {
     "name": "stdout",
     "output_type": "stream",
     "text": [
      "Requirement already satisfied: streamlit in /Users/ryo12/anaconda3/lib/python3.10/site-packages (1.49.1)\n",
      "Requirement already satisfied: supabase in /Users/ryo12/anaconda3/lib/python3.10/site-packages (2.19.0)\n",
      "Requirement already satisfied: altair!=5.4.0,!=5.4.1,<6,>=4.0 in /Users/ryo12/anaconda3/lib/python3.10/site-packages (from streamlit) (5.5.0)\n",
      "Requirement already satisfied: blinker<2,>=1.5.0 in /Users/ryo12/anaconda3/lib/python3.10/site-packages (from streamlit) (1.9.0)\n",
      "Requirement already satisfied: cachetools<7,>=4.0 in /Users/ryo12/anaconda3/lib/python3.10/site-packages (from streamlit) (5.5.2)\n",
      "Requirement already satisfied: click<9,>=7.0 in /Users/ryo12/anaconda3/lib/python3.10/site-packages (from streamlit) (8.0.4)\n",
      "Requirement already satisfied: numpy<3,>=1.23 in /Users/ryo12/anaconda3/lib/python3.10/site-packages (from streamlit) (2.2.6)\n",
      "Requirement already satisfied: packaging<26,>=20 in /Users/ryo12/anaconda3/lib/python3.10/site-packages (from streamlit) (25.0)\n",
      "Requirement already satisfied: pandas<3,>=1.4.0 in /Users/ryo12/anaconda3/lib/python3.10/site-packages (from streamlit) (1.5.3)\n",
      "Requirement already satisfied: pillow<12,>=7.1.0 in /Users/ryo12/anaconda3/lib/python3.10/site-packages (from streamlit) (9.4.0)\n",
      "Requirement already satisfied: protobuf<7,>=3.20 in /Users/ryo12/anaconda3/lib/python3.10/site-packages (from streamlit) (6.32.1)\n",
      "Requirement already satisfied: pyarrow>=7.0 in /Users/ryo12/anaconda3/lib/python3.10/site-packages (from streamlit) (21.0.0)\n",
      "Requirement already satisfied: requests<3,>=2.27 in /Users/ryo12/anaconda3/lib/python3.10/site-packages (from streamlit) (2.32.5)\n",
      "Requirement already satisfied: tenacity<10,>=8.1.0 in /Users/ryo12/anaconda3/lib/python3.10/site-packages (from streamlit) (9.1.2)\n",
      "Requirement already satisfied: toml<2,>=0.10.1 in /Users/ryo12/anaconda3/lib/python3.10/site-packages (from streamlit) (0.10.2)\n",
      "Requirement already satisfied: typing-extensions<5,>=4.4.0 in /Users/ryo12/anaconda3/lib/python3.10/site-packages (from streamlit) (4.14.1)\n",
      "Requirement already satisfied: gitpython!=3.1.19,<4,>=3.0.7 in /Users/ryo12/anaconda3/lib/python3.10/site-packages (from streamlit) (3.1.45)\n",
      "Requirement already satisfied: pydeck<1,>=0.8.0b4 in /Users/ryo12/anaconda3/lib/python3.10/site-packages (from streamlit) (0.9.1)\n",
      "Requirement already satisfied: tornado!=6.5.0,<7,>=6.0.3 in /Users/ryo12/anaconda3/lib/python3.10/site-packages (from streamlit) (6.1)\n",
      "Requirement already satisfied: jinja2 in /Users/ryo12/anaconda3/lib/python3.10/site-packages (from altair!=5.4.0,!=5.4.1,<6,>=4.0->streamlit) (3.1.2)\n",
      "Requirement already satisfied: jsonschema>=3.0 in /Users/ryo12/anaconda3/lib/python3.10/site-packages (from altair!=5.4.0,!=5.4.1,<6,>=4.0->streamlit) (4.25.1)\n",
      "Requirement already satisfied: narwhals>=1.14.2 in /Users/ryo12/anaconda3/lib/python3.10/site-packages (from altair!=5.4.0,!=5.4.1,<6,>=4.0->streamlit) (2.4.0)\n",
      "Requirement already satisfied: gitdb<5,>=4.0.1 in /Users/ryo12/anaconda3/lib/python3.10/site-packages (from gitpython!=3.1.19,<4,>=3.0.7->streamlit) (4.0.12)\n",
      "Requirement already satisfied: smmap<6,>=3.0.1 in /Users/ryo12/anaconda3/lib/python3.10/site-packages (from gitdb<5,>=4.0.1->gitpython!=3.1.19,<4,>=3.0.7->streamlit) (5.0.2)\n",
      "Requirement already satisfied: python-dateutil>=2.8.1 in /Users/ryo12/anaconda3/lib/python3.10/site-packages (from pandas<3,>=1.4.0->streamlit) (2.8.2)\n",
      "Requirement already satisfied: pytz>=2020.1 in /Users/ryo12/anaconda3/lib/python3.10/site-packages (from pandas<3,>=1.4.0->streamlit) (2022.7)\n",
      "Requirement already satisfied: charset_normalizer<4,>=2 in /Users/ryo12/anaconda3/lib/python3.10/site-packages (from requests<3,>=2.27->streamlit) (2.0.4)\n",
      "Requirement already satisfied: idna<4,>=2.5 in /Users/ryo12/anaconda3/lib/python3.10/site-packages (from requests<3,>=2.27->streamlit) (3.4)\n",
      "Requirement already satisfied: urllib3<3,>=1.21.1 in /Users/ryo12/anaconda3/lib/python3.10/site-packages (from requests<3,>=2.27->streamlit) (1.26.14)\n",
      "Requirement already satisfied: certifi>=2017.4.17 in /Users/ryo12/anaconda3/lib/python3.10/site-packages (from requests<3,>=2.27->streamlit) (2022.12.7)\n",
      "Requirement already satisfied: realtime in /Users/ryo12/anaconda3/lib/python3.10/site-packages (from supabase) (2.19.0)\n",
      "Requirement already satisfied: supabase-functions in /Users/ryo12/anaconda3/lib/python3.10/site-packages (from supabase) (2.19.0)\n",
      "Requirement already satisfied: storage3 in /Users/ryo12/anaconda3/lib/python3.10/site-packages (from supabase) (2.19.0)\n",
      "Requirement already satisfied: supabase-auth in /Users/ryo12/anaconda3/lib/python3.10/site-packages (from supabase) (2.19.0)\n",
      "Requirement already satisfied: postgrest in /Users/ryo12/anaconda3/lib/python3.10/site-packages (from supabase) (2.19.0)\n",
      "Requirement already satisfied: httpx<0.29,>=0.26 in /Users/ryo12/anaconda3/lib/python3.10/site-packages (from supabase) (0.28.1)\n",
      "Requirement already satisfied: anyio in /Users/ryo12/anaconda3/lib/python3.10/site-packages (from httpx<0.29,>=0.26->supabase) (4.9.0)\n",
      "Requirement already satisfied: httpcore==1.* in /Users/ryo12/anaconda3/lib/python3.10/site-packages (from httpx<0.29,>=0.26->supabase) (1.0.9)\n",
      "Requirement already satisfied: h11>=0.16 in /Users/ryo12/anaconda3/lib/python3.10/site-packages (from httpcore==1.*->httpx<0.29,>=0.26->supabase) (0.16.0)\n",
      "Requirement already satisfied: MarkupSafe>=2.0 in /Users/ryo12/anaconda3/lib/python3.10/site-packages (from jinja2->altair!=5.4.0,!=5.4.1,<6,>=4.0->streamlit) (2.1.1)\n",
      "Requirement already satisfied: attrs>=22.2.0 in /Users/ryo12/anaconda3/lib/python3.10/site-packages (from jsonschema>=3.0->altair!=5.4.0,!=5.4.1,<6,>=4.0->streamlit) (25.3.0)\n",
      "Requirement already satisfied: jsonschema-specifications>=2023.03.6 in /Users/ryo12/anaconda3/lib/python3.10/site-packages (from jsonschema>=3.0->altair!=5.4.0,!=5.4.1,<6,>=4.0->streamlit) (2025.9.1)\n",
      "Requirement already satisfied: referencing>=0.28.4 in /Users/ryo12/anaconda3/lib/python3.10/site-packages (from jsonschema>=3.0->altair!=5.4.0,!=5.4.1,<6,>=4.0->streamlit) (0.36.2)\n",
      "Requirement already satisfied: rpds-py>=0.7.1 in /Users/ryo12/anaconda3/lib/python3.10/site-packages (from jsonschema>=3.0->altair!=5.4.0,!=5.4.1,<6,>=4.0->streamlit) (0.27.1)\n",
      "Requirement already satisfied: six>=1.5 in /Users/ryo12/anaconda3/lib/python3.10/site-packages (from python-dateutil>=2.8.1->pandas<3,>=1.4.0->streamlit) (1.16.0)\n",
      "Requirement already satisfied: exceptiongroup>=1.0.2 in /Users/ryo12/anaconda3/lib/python3.10/site-packages (from anyio->httpx<0.29,>=0.26->supabase) (1.3.0)\n",
      "Requirement already satisfied: sniffio>=1.1 in /Users/ryo12/anaconda3/lib/python3.10/site-packages (from anyio->httpx<0.29,>=0.26->supabase) (1.2.0)\n",
      "Requirement already satisfied: deprecation>=2.1.0 in /Users/ryo12/anaconda3/lib/python3.10/site-packages (from postgrest->supabase) (2.1.0)\n",
      "Requirement already satisfied: pydantic<3.0,>=1.9 in /Users/ryo12/anaconda3/lib/python3.10/site-packages (from postgrest->supabase) (2.11.7)\n",
      "Requirement already satisfied: strenum>=0.4.9 in /Users/ryo12/anaconda3/lib/python3.10/site-packages (from postgrest->supabase) (0.4.15)\n",
      "Requirement already satisfied: h2<5,>=3 in /Users/ryo12/anaconda3/lib/python3.10/site-packages (from httpx[http2]<0.29,>=0.26->postgrest->supabase) (4.3.0)\n",
      "Requirement already satisfied: hyperframe<7,>=6.1 in /Users/ryo12/anaconda3/lib/python3.10/site-packages (from h2<5,>=3->httpx[http2]<0.29,>=0.26->postgrest->supabase) (6.1.0)\n",
      "Requirement already satisfied: hpack<5,>=4.1 in /Users/ryo12/anaconda3/lib/python3.10/site-packages (from h2<5,>=3->httpx[http2]<0.29,>=0.26->postgrest->supabase) (4.1.0)\n",
      "Requirement already satisfied: annotated-types>=0.6.0 in /Users/ryo12/anaconda3/lib/python3.10/site-packages (from pydantic<3.0,>=1.9->postgrest->supabase) (0.7.0)\n",
      "Requirement already satisfied: pydantic-core==2.33.2 in /Users/ryo12/anaconda3/lib/python3.10/site-packages (from pydantic<3.0,>=1.9->postgrest->supabase) (2.33.2)\n",
      "Requirement already satisfied: typing-inspection>=0.4.0 in /Users/ryo12/anaconda3/lib/python3.10/site-packages (from pydantic<3.0,>=1.9->postgrest->supabase) (0.4.1)\n",
      "Requirement already satisfied: websockets<16,>=11 in /Users/ryo12/anaconda3/lib/python3.10/site-packages (from realtime->supabase) (15.0.1)\n",
      "Requirement already satisfied: pyjwt>=2.10.1 in /Users/ryo12/anaconda3/lib/python3.10/site-packages (from pyjwt[crypto]>=2.10.1->supabase-auth->supabase) (2.10.1)\n",
      "Requirement already satisfied: cryptography>=3.4.0 in /Users/ryo12/anaconda3/lib/python3.10/site-packages (from pyjwt[crypto]>=2.10.1->supabase-auth->supabase) (39.0.1)\n",
      "Requirement already satisfied: cffi>=1.12 in /Users/ryo12/anaconda3/lib/python3.10/site-packages (from cryptography>=3.4.0->pyjwt[crypto]>=2.10.1->supabase-auth->supabase) (1.15.1)\n",
      "Requirement already satisfied: pycparser in /Users/ryo12/anaconda3/lib/python3.10/site-packages (from cffi>=1.12->cryptography>=3.4.0->pyjwt[crypto]>=2.10.1->supabase-auth->supabase) (2.21)\n",
      "Note: you may need to restart the kernel to use updated packages.\n"
     ]
    }
   ],
   "source": [
    "pip install streamlit supabase "
   ]
  },
  {
   "cell_type": "code",
   "execution_count": 7,
   "id": "6354ee68",
   "metadata": {},
   "outputs": [
    {
     "name": "stdout",
     "output_type": "stream",
     "text": [
      "Requirement already satisfied: python-dotenv in /Users/ryo12/anaconda3/lib/python3.10/site-packages (1.1.1)\n",
      "Note: you may need to restart the kernel to use updated packages.\n"
     ]
    }
   ],
   "source": [
    "pip install python-dotenv\n"
   ]
  },
  {
   "cell_type": "code",
   "execution_count": null,
   "id": "bcbbda13",
   "metadata": {},
   "outputs": [],
   "source": []
  }
 ],
 "metadata": {
  "kernelspec": {
   "display_name": "base",
   "language": "python",
   "name": "python3"
  },
  "language_info": {
   "codemirror_mode": {
    "name": "ipython",
    "version": 3
   },
   "file_extension": ".py",
   "mimetype": "text/x-python",
   "name": "python",
   "nbconvert_exporter": "python",
   "pygments_lexer": "ipython3",
   "version": "3.10.9"
  }
 },
 "nbformat": 4,
 "nbformat_minor": 5
}
