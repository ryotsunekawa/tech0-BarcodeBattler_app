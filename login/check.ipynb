{
 "cells": [
  {
   "cell_type": "code",
   "execution_count": 3,
   "id": "c5cee846",
   "metadata": {},
   "outputs": [
    {
     "name": "stdout",
     "output_type": "stream",
     "text": [
      "2.19.0\n"
     ]
    }
   ],
   "source": [
    "import supabase\n",
    "print(supabase.__version__)"
   ]
  },
  {
   "cell_type": "code",
   "execution_count": null,
   "id": "bba8de17",
   "metadata": {},
   "outputs": [
    {
     "ename": "TypeError",
     "evalue": "SyncGoTrueClient.sign_up() got an unexpected keyword argument 'email'",
     "output_type": "error",
     "traceback": [
      "\u001b[0;31m---------------------------------------------------------------------------\u001b[0m",
      "\u001b[0;31mTypeError\u001b[0m                                 Traceback (most recent call last)",
      "Cell \u001b[0;32mIn[6], line 54\u001b[0m\n\u001b[1;32m     51\u001b[0m new_password \u001b[38;5;241m=\u001b[39m \u001b[38;5;124m\"\u001b[39m\u001b[38;5;124mryo.1207\u001b[39m\u001b[38;5;124m\"\u001b[39m\n\u001b[1;32m     53\u001b[0m \u001b[38;5;28;01mtry\u001b[39;00m:\n\u001b[0;32m---> 54\u001b[0m     res \u001b[38;5;241m=\u001b[39m \u001b[43msupabase\u001b[49m\u001b[38;5;241;43m.\u001b[39;49m\u001b[43mauth\u001b[49m\u001b[38;5;241;43m.\u001b[39;49m\u001b[43msign_up\u001b[49m\u001b[43m(\u001b[49m\u001b[43memail\u001b[49m\u001b[38;5;241;43m=\u001b[39;49m\u001b[43mnew_email\u001b[49m\u001b[43m,\u001b[49m\u001b[43m \u001b[49m\u001b[43mpassword\u001b[49m\u001b[38;5;241;43m=\u001b[39;49m\u001b[43mnew_password\u001b[49m\u001b[43m)\u001b[49m\n\u001b[1;32m     56\u001b[0m     \u001b[38;5;28;01mif\u001b[39;00m res\u001b[38;5;241m.\u001b[39muser \u001b[38;5;129;01mis\u001b[39;00m \u001b[38;5;28;01mNone\u001b[39;00m:\n\u001b[1;32m     57\u001b[0m         st\u001b[38;5;241m.\u001b[39merror(\u001b[38;5;124m\"\u001b[39m\u001b[38;5;124mこのメールアドレスはすでに登録済みか、登録できません。\u001b[39m\u001b[38;5;124m\"\u001b[39m)\n",
      "\u001b[0;31mTypeError\u001b[0m: SyncGoTrueClient.sign_up() got an unexpected keyword argument 'email'"
     ]
    }
   ],
   "source": [
    "import os, io, re, json, base64, zipfile, random\n",
    "import streamlit as st\n",
    "from supabase import create_client, AuthApiError\n",
    "\n",
    "# .env ファイルを読み込む\n",
    "try:\n",
    "    from dotenv import load_dotenv\n",
    "    load_dotenv()\n",
    "except Exception:\n",
    "    pass\n",
    "\n",
    "def get_api_url(env_url: str = \"SUPABASE_URL\") -> str | None:\n",
    "    url = os.getenv(env_url)\n",
    "    if url:\n",
    "        return url\n",
    "    try:\n",
    "        return st.secrets[env_url]  # secrets.toml が無い場合もあるため例外安全にする\n",
    "    except Exception:\n",
    "        return None\n",
    "    \n",
    "def get_api_key(env_key: str = \"SUPABASE_KEY\") -> str | None:\n",
    "    key = os.getenv(env_key)\n",
    "    if key:\n",
    "        return key\n",
    "    try:\n",
    "        return st.secrets[env_key]  # secrets.toml が無い場合もあるため例外安全にする\n",
    "    except Exception:\n",
    "        return None\n",
    "    \n",
    "API_URL = get_api_url()\n",
    "if not API_URL:\n",
    "    st.error(\n",
    "        \"APIのURLが見つかりません。\\n\\n\"\n",
    "         )\n",
    "    st.stop() \n",
    "\n",
    "API_KEY = get_api_key()\n",
    "if not API_KEY:\n",
    "    st.error(\n",
    "        \"APIのキーが見つかりません。\\n\\n\"\n",
    "       )\n",
    "    st.stop()\n",
    "\n",
    "# supabaseを呼び出すためのコード\n",
    "supabase = create_client(API_URL, API_KEY)\n",
    "\n",
    "\n",
    "\n",
    "\n",
    "new_email = \"ryo.1207.tsune@gmail.com\"\n",
    "new_password = \"ryo.1207\"\n",
    "\n",
    "try:\n",
    "    res = supabase.auth.sign_up(email=new_email, password=new_password)\n",
    "    \n",
    "    if res.user is None:\n",
    "        st.error(\"このメールアドレスはすでに登録済みか、登録できません。\")\n",
    "    else:\n",
    "        st.success(\"アカウントが作成されました。メールを確認してください。\")\n",
    "\n",
    "except AuthApiError as e:\n",
    "    # エラーメッセージ文字列に 'identity_already_exists' が含まれているかで判定\n",
    "    if \"identity_already_exists\" in str(e):\n",
    "        st.error(\"このメールアドレスはすでに登録済みです。\")\n",
    "    else:\n",
    "        st.error(f\"サインアップ中に予期せぬエラーが発生しました: {str(e)}\")\n",
    "\n"
   ]
  }
 ],
 "metadata": {
  "kernelspec": {
   "display_name": "base",
   "language": "python",
   "name": "python3"
  },
  "language_info": {
   "codemirror_mode": {
    "name": "ipython",
    "version": 3
   },
   "file_extension": ".py",
   "mimetype": "text/x-python",
   "name": "python",
   "nbconvert_exporter": "python",
   "pygments_lexer": "ipython3",
   "version": "3.10.9"
  }
 },
 "nbformat": 4,
 "nbformat_minor": 5
}
