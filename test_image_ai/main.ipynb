{
 "cells": [
  {
   "cell_type": "code",
   "execution_count": 3,
   "id": "ce31be09",
   "metadata": {},
   "outputs": [],
   "source": [
    "from __future__ import annotations\n",
    "import os, io, re, json, base64, zipfile, random\n",
    "from typing import Dict, List, Tuple\n",
    "import streamlit as st\n",
    "import streamlit.components.v1 as components\n",
    "\n",
    "import requests\n",
    "import time\n",
    "\n",
    "# .env 読み込み（無ければ何もしない）\n",
    "try:\n",
    "    from dotenv import load_dotenv\n",
    "    load_dotenv()\n",
    "except Exception:\n",
    "    pass"
   ]
  },
  {
   "cell_type": "code",
   "execution_count": 5,
   "id": "482ba550",
   "metadata": {},
   "outputs": [],
   "source": [
    "import base64\n",
    "import os\n",
    "import requests\n",
    "\n",
    "engine_id = \"stable-diffusion-xl-1024-v1-0\"\n",
    "api_host = os.getenv('API_HOST', 'https://api.stability.ai')\n",
    "api_key = os.getenv(\"STABILITY_API_KEY\")\n",
    "prompt = \"ここにプロンプトを記述する\"\n",
    "\n",
    "#API Keyの確認\n",
    "if api_key is None:\n",
    "    raise Exception(\"Missing Stability API key.\")\n",
    "\n",
    "response = requests.post(\n",
    "    f\"{api_host}/v1/generation/{engine_id}/text-to-image\",\n",
    "    headers={\n",
    "        \"Content-Type\": \"application/json\",\n",
    "        \"Accept\": \"application/json\",\n",
    "        \"Authorization\": f\"Bearer {api_key}\"\n",
    "    },\n",
    "    json={\n",
    "         \"style_preset\": \"anime\",\n",
    "        \"text_prompts\": [\n",
    "        {\n",
    "            \"text\": \"Japanese moe heroine\"\n",
    "        }\n",
    "    ],\n",
    "        \"cfg_scale\": 7,\n",
    "        \"height\": 1024,\n",
    "        \"width\": 1024,\n",
    "        \"samples\": 1,\n",
    "        \"steps\": 30,\n",
    "    },\n",
    ")\n",
    "#画像保存。\n",
    "if response.status_code != 200:\n",
    "    raise Exception(\"Non-200 response: \" + str(response.text))\n",
    "\n",
    "data = response.json()\n",
    "\n",
    "for i, image in enumerate(data[\"artifacts\"]):\n",
    "    with open(f\"./out/v1_txt2img_{i}.png\", \"wb\") as f:\n",
    "        f.write(base64.b64decode(image[\"base64\"]))\n"
   ]
  }
 ],
 "metadata": {
  "kernelspec": {
   "display_name": "base",
   "language": "python",
   "name": "python3"
  },
  "language_info": {
   "codemirror_mode": {
    "name": "ipython",
    "version": 3
   },
   "file_extension": ".py",
   "mimetype": "text/x-python",
   "name": "python",
   "nbconvert_exporter": "python",
   "pygments_lexer": "ipython3",
   "version": "3.10.9"
  }
 },
 "nbformat": 4,
 "nbformat_minor": 5
}
